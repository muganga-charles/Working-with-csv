{
 "cells": [
  {
   "cell_type": "code",
   "execution_count": null,
   "metadata": {},
   "outputs": [],
   "source": [
    "import csv\n",
    "file=open(\"books.csv\",\"w\")\n",
    "newrecord=\"To kill A Mocking bird,Harper lee,1960\\n\"\n",
    "file.write(str(newrecord))\n",
    "newrecord=\"A Brief History of Time,Stephen Hawking,1988\\n\"\n",
    "file.write(str(newrecord))\n",
    "newrecord=\"The great Gatsby,F.Scott Fitzgeralld,1922\\n\"\n",
    "file.write(str(newrecord))\n",
    "newrecord=\"The Man who Mistook his wife for a hat,Oliver Sacks,1985\\n\"\n",
    "file.write(str(newrecord))\n",
    "newrecord=\"Pride and prejudice,Jane Austen,1813\\n\"\n",
    "file.write(str(newrecord))\n",
    "file.close()"
   ]
  },
  {
   "cell_type": "code",
   "execution_count": null,
   "metadata": {},
   "outputs": [],
   "source": [
    "\n",
    "import csv\n",
    "file=open(\"books.csv\",\"a\")\n",
    "\n",
    "title=input(\"enter a tile\")\n",
    "auther=input(\"enter the auther\")\n",
    "year=input(\"enter year\")\n",
    "newRecord=title + \",\"+auther + \",\" + year+\"\\n\"\n",
    "file.write(str(newrecord))\n",
    "file.close()\n",
    "\n",
    "file=open(\"books.csv\",\"r\")\n",
    "for row in file:\n",
    "    print(row)\n",
    "file.close()\n"
   ]
  },
  {
   "cell_type": "code",
   "execution_count": null,
   "metadata": {},
   "outputs": [],
   "source": [
    "\n",
    "import csv\n",
    "file=open(\"books.csv\",\"a\")\n",
    "record=int(input(\"how many records do you want to add to the list?\"))\n",
    "for i in range(0,record):\n",
    "    title=input(\"enter a tile\")\n",
    "    auther=input(\"enter the auther\")\n",
    "    year=input(\"enter year\")\n",
    "    newRecord=title + \",\"+auther + \",\" + year+\"\\n\"\n",
    "    file.write(str(newrecord))\n",
    "file.close()\n",
    "\n",
    "auther=input(\"enter a auther\")\n",
    "file=open(\"books.csv\",\"r\")\n",
    "count=0\n",
    "for row in file:\n",
    "    if auther in str(row):\n",
    "        print(row)\n",
    "        count+=1\n",
    "if count==0:\n",
    "    print(\"no auther with that name\")\n",
    "file.close()\n",
    "    \n",
    "    \n",
    "\n"
   ]
  },
  {
   "cell_type": "code",
   "execution_count": null,
   "metadata": {},
   "outputs": [],
   "source": [
    "\n",
    "import csv\n",
    "\n",
    "year1=input(\"enter starting year\")\n",
    "year2=input(\"enter last year\")\n",
    "file=list(csv.reader(open(\"books.csv\")))\n",
    "temp=[]\n",
    "for row in file:\n",
    "    temp.append(row)\n",
    "x=0\n",
    "for row in temp:\n",
    "    if int(temp[x][2])>=year1 and int(temp[x][12])<=year2:\n",
    "        print(temp[x])\n",
    "x=x+1\n",
    "    \n",
    "\n"
   ]
  }
 ],
 "metadata": {
  "language_info": {
   "name": "python"
  },
  "orig_nbformat": 4
 },
 "nbformat": 4,
 "nbformat_minor": 2
}
